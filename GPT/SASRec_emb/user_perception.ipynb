{
 "cells": [
  {
   "cell_type": "code",
   "execution_count": 1,
   "metadata": {},
   "outputs": [],
   "source": [
    "import json\n",
    "import pandas as pd\n",
    "from tqdm import tqdm\n",
    "dataset = 'Yelp'\n",
    "df = pd.read_csv(f'csv/{dataset}.csv', names=['user_id', 'item_id'], usecols=[0, 1])"
   ]
  },
  {
   "cell_type": "code",
   "execution_count": 2,
   "metadata": {},
   "outputs": [],
   "source": [
    "with open(f'{dataset}_feature.json', 'r') as file:\n",
    "    feature = json.load(file)"
   ]
  },
  {
   "cell_type": "code",
   "execution_count": 4,
   "metadata": {},
   "outputs": [],
   "source": [
    "index_u=df['user_id'].max()"
   ]
  },
  {
   "cell_type": "code",
   "execution_count": null,
   "metadata": {},
   "outputs": [],
   "source": [
    "#提取用户感知\n",
    "user_h={}\n",
    "for user in tqdm(range(index_u+1)):\n",
    "    history = df[df['user_id'] == user]['item_id'].values[-(10 + 2):-2]\n",
    "    history=[feature[str(h)] for h in history]\n",
    "    user_h[user]='\\n\\n'.join(history)"
   ]
  },
  {
   "cell_type": "code",
   "execution_count": null,
   "metadata": {},
   "outputs": [],
   "source": [
    "len(user_h)"
   ]
  },
  {
   "cell_type": "code",
   "execution_count": null,
   "metadata": {},
   "outputs": [],
   "source": [
    "print(user_h[19])"
   ]
  },
  {
   "cell_type": "code",
   "execution_count": null,
   "metadata": {},
   "outputs": [],
   "source": [
    "prompt = \"\"\"Based on the titles and features of the items the user has interacted with in chronological order, summarize the user's preferences directly as concise and precise keywords, separated by commas, without any additional explanation.\n",
    "Example output: Culture & History, Seafood Cuisine, Japanese Cuisine, Gardening Enthusiast\n",
    "History:\\n\"\"\"\n",
    "\n",
    "data_list = []\n",
    "file_count = 1\n",
    "\n",
    "for uid, u_history in tqdm(user_h.items()):\n",
    "    data_entry = {\n",
    "        \"custom_id\": str(uid),\n",
    "        \"method\": \"POST\",\n",
    "        \"url\": \"/v1/chat/completions\",\n",
    "        \"body\": {\n",
    "            \"model\": \"gpt-4o-mini\",\n",
    "            \"messages\": [\n",
    "                {\"role\": \"system\", \"content\": \"You are a helpful assistant.\"},\n",
    "                {\"role\": \"user\", \"content\": prompt + u_history}\n",
    "            ]\n",
    "        }\n",
    "    }\n",
    "    data_list.append(data_entry)\n",
    "    if len(data_list) >= 30000:\n",
    "        with open(f'{dataset}_userrequest_{file_count}.jsonl', 'w', encoding='utf-8') as f:\n",
    "            for entry in data_list:\n",
    "                json.dump(entry, f, ensure_ascii=False)\n",
    "                f.write('\\n')\n",
    "        file_count += 1\n",
    "        data_list = []\n",
    "\n",
    "if data_list:\n",
    "    with open(f'{dataset}_userrequest_{file_count}.jsonl', 'w', encoding='utf-8') as f:\n",
    "        for entry in data_list:\n",
    "            json.dump(entry, f, ensure_ascii=False)\n",
    "            f.write('\\n')"
   ]
  },
  {
   "cell_type": "code",
   "execution_count": 2,
   "metadata": {},
   "outputs": [],
   "source": [
    "import os\n",
    "from pathlib import Path\n",
    "from openai import OpenAI\n",
    "\n",
    "client = OpenAI(\n",
    "    api_key=\"\",  # 如果您没有配置环境变量，请在此处用您的API Key进行替换\n",
    ")\n"
   ]
  },
  {
   "cell_type": "code",
   "execution_count": 6,
   "metadata": {},
   "outputs": [],
   "source": [
    "xuhao=1"
   ]
  },
  {
   "cell_type": "code",
   "execution_count": null,
   "metadata": {},
   "outputs": [],
   "source": [
    "\n",
    "file_object = client.files.create(file=Path(f\"request_{xuhao}.jsonl\"), purpose=\"batch\")\n",
    "\n",
    "print(file_object.model_dump_json())\n",
    "print(file_object.id)  # 打印文件id\n",
    "file_object_id=file_object.id"
   ]
  },
  {
   "cell_type": "code",
   "execution_count": null,
   "metadata": {},
   "outputs": [],
   "source": [
    "batch = client.batches.create(\n",
    "    input_file_id=file_object_id,  # 上传文件返回的 id\n",
    "    endpoint=\"/v1/chat/completions\",  # 大语言模型固定填写，/v1/chat/completions\n",
    "    completion_window=\"24h\"  # 当前只支持24h，24小时未运行完会超时\n",
    ")\n",
    "print(batch)\n",
    "print(batch.id)  # 打印Batch任务的id\n",
    "batch_id=batch.id"
   ]
  },
  {
   "cell_type": "code",
   "execution_count": null,
   "metadata": {},
   "outputs": [],
   "source": [
    "#查询\n",
    "batch = client.batches.retrieve('')  # 将batch_id替换为Batch任务的id\n",
    "print(batch)\n",
    "print(batch.error_file_id)\n",
    "print(batch.output_file_id)  # 打印输出文件id\n",
    "error_file_id=batch.error_file_id\n",
    "output_file_id=batch.output_file_id"
   ]
  },
  {
   "cell_type": "code",
   "execution_count": null,
   "metadata": {},
   "outputs": [],
   "source": [
    "content = client.files.content(file_id=error_file_id)\n",
    "print(content.text)\n",
    "content.write_to_file(f\"resulterror_{xuhao}.jsonl\")"
   ]
  },
  {
   "cell_type": "code",
   "execution_count": null,
   "metadata": {},
   "outputs": [],
   "source": [
    "content = client.files.content(file_id=output_file_id)\n",
    "print(content.text)\n",
    "content.write_to_file(f\"result_{xuhao}.jsonl\")"
   ]
  },
  {
   "cell_type": "code",
   "execution_count": null,
   "metadata": {},
   "outputs": [],
   "source": [
    "import json\n",
    "\n",
    "def parse_jsonl(file_path):\n",
    "    with open(file_path, 'r', encoding='utf-8') as file:\n",
    "        data = []\n",
    "        for line in file:\n",
    "            data.append(json.loads(line))\n",
    "    return data\n",
    "\n",
    "def extract_custom_id_and_content(parsed_data, extracted_data):\n",
    "    for item in parsed_data:\n",
    "        custom_id = item.get(\"custom_id\")\n",
    "        content = item[\"response\"][\"body\"][\"choices\"][0][\"message\"][\"content\"]\n",
    "        extracted_data[custom_id] = content\n",
    "\n",
    "def save_to_json(data, output_path):\n",
    "    with open(output_path, 'w', encoding='utf-8') as file:\n",
    "        json.dump(data, file, ensure_ascii=False, indent=4)\n",
    "\n",
    "jsonl_files = ['result_1.jsonl', 'result_2.jsonl', 'result_3.jsonl']\n",
    "\n",
    "all_extracted_data = {}\n",
    "\n",
    "for jsonl_file in jsonl_files:\n",
    "    parsed_data = parse_jsonl(jsonl_file)\n",
    "    extract_custom_id_and_content(parsed_data, all_extracted_data)\n",
    "\n",
    "output_file_path = 'merged_data.json'\n",
    "save_to_json(all_extracted_data, output_file_path)\n",
    "\n",
    "print(f\"合并的数据已保存到 {output_file_path}\")"
   ]
  }
 ],
 "metadata": {
  "kernelspec": {
   "display_name": "base",
   "language": "python",
   "name": "python3"
  },
  "language_info": {
   "codemirror_mode": {
    "name": "ipython",
    "version": 3
   },
   "file_extension": ".py",
   "mimetype": "text/x-python",
   "name": "python",
   "nbconvert_exporter": "python",
   "pygments_lexer": "ipython3",
   "version": "3.11.7"
  }
 },
 "nbformat": 4,
 "nbformat_minor": 2
}
