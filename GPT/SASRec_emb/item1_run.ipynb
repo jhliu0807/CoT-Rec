{
 "cells": [
  {
   "cell_type": "code",
   "execution_count": 1,
   "metadata": {},
   "outputs": [],
   "source": [
    "import os\n",
    "from pathlib import Path\n",
    "from openai import OpenAI\n",
    "\n",
    "client = OpenAI(\n",
    "    api_key=''  \n",
    ")\n"
   ]
  },
  {
   "cell_type": "code",
   "execution_count": 2,
   "metadata": {},
   "outputs": [],
   "source": [
    "xuhao=1\n",
    "dataset='Yelp'\n",
    "stage='item'"
   ]
  },
  {
   "cell_type": "code",
   "execution_count": null,
   "metadata": {},
   "outputs": [],
   "source": [
    "\n",
    "# test.jsonl 是一个本地示例文件，purpose必须是batch\n",
    "file_object = client.files.create(file=Path(f\"{dataset}_{stage}request_{xuhao}.jsonl\"), purpose=\"batch\")\n",
    "\n",
    "print(file_object.model_dump_json())\n",
    "print(file_object.id)  # 打印文件id\n",
    "file_object_id=file_object.id"
   ]
  },
  {
   "cell_type": "code",
   "execution_count": null,
   "metadata": {},
   "outputs": [],
   "source": [
    "batch = client.batches.create(\n",
    "    input_file_id=file_object_id,  # 上传文件返回的 id\n",
    "    endpoint=\"/v1/chat/completions\",  # 大语言模型固定填写，/v1/chat/completions\n",
    "    completion_window=\"24h\"  # 当前只支持24h，24小时未运行完会超时\n",
    ")\n",
    "print(batch)\n",
    "print(batch.id)  # 打印Batch任务的id\n",
    "batch_id=batch.id"
   ]
  },
  {
   "cell_type": "code",
   "execution_count": null,
   "metadata": {},
   "outputs": [],
   "source": [
    "#查询\n",
    "batch = client.batches.retrieve('')  # 将batch_id替换为Batch任务的id\n",
    "print(batch)\n",
    "print(batch.error_file_id)\n",
    "print(batch.output_file_id)  # 打印输出文件id\n",
    "error_file_id=batch.error_file_id\n",
    "output_file_id=batch.output_file_id"
   ]
  },
  {
   "cell_type": "code",
   "execution_count": null,
   "metadata": {},
   "outputs": [],
   "source": [
    "content = client.files.content(file_id=error_file_id)\n",
    "# 打印结果文件内容\n",
    "print(content.text)\n",
    "# 保存结果文件至本地\n",
    "content.write_to_file(f\"{dataset}_{stage}resulterror_{xuhao}.jsonl\")"
   ]
  },
  {
   "cell_type": "code",
   "execution_count": null,
   "metadata": {},
   "outputs": [],
   "source": [
    "content = client.files.content(file_id=output_file_id)\n",
    "# 打印结果文件内容\n",
    "print(content.text)\n",
    "# 保存结果文件至本地\n",
    "content.write_to_file(f\"{dataset}_{stage}result_{xuhao}.jsonl\")"
   ]
  },
  {
   "cell_type": "code",
   "execution_count": null,
   "metadata": {},
   "outputs": [],
   "source": [
    "import json\n",
    "\n",
    "# 定义函数将返回的jsonl数据解析成json列表\n",
    "def parse_jsonl(file_path):\n",
    "    with open(file_path, 'r', encoding='utf-8') as file:\n",
    "        data = []\n",
    "        for line in file:\n",
    "            data.append(json.loads(line))\n",
    "    return data\n",
    "\n",
    "# 提取 custom_id 和 message 中的 content\n",
    "def extract_custom_id_and_content(parsed_data, extracted_data):\n",
    "    for item in parsed_data:\n",
    "        custom_id = item.get(\"custom_id\")\n",
    "        content = item[\"response\"][\"body\"][\"choices\"][0][\"message\"][\"content\"]\n",
    "        extracted_data[custom_id] = content\n",
    "\n",
    "# 保存提取的数据到一个json文件\n",
    "def save_to_json(data, output_path):\n",
    "    with open(output_path, 'w', encoding='utf-8') as file:\n",
    "        json.dump(data, file, ensure_ascii=False, indent=4)\n",
    "def delete_files(file_paths):\n",
    "    for file_path in file_paths:\n",
    "        try:\n",
    "            os.remove(file_path)\n",
    "        except FileNotFoundError:\n",
    "            print(f\"文件 {file_path} 未找到，跳过删除。\")\n",
    "\n",
    "# 多个 JSONL 文件路径\n",
    "jsonl_files = [f'{dataset}_{stage}result_1.jsonl']\n",
    "\n",
    "# jsonl_files = ['result_1.jsonl']\n",
    "# 合并所有文件中的数据\n",
    "all_extracted_data = {}\n",
    "\n",
    "# 解析每个 JSONL 文件并提取数据\n",
    "for jsonl_file in jsonl_files:\n",
    "    parsed_data = parse_jsonl(jsonl_file)\n",
    "    extract_custom_id_and_content(parsed_data, all_extracted_data)\n",
    "if stage =='item':\n",
    "# 保存所有提取的数据到一个最终的 JSON 文件\n",
    "    with open(f'input/caption/{dataset}_caption.json', 'r') as file:\n",
    "        name = json.load(file)\n",
    "    for k,v in all_extracted_data.items():\n",
    "        all_extracted_data[k]=f'The item is {name[k]}, and its feature is :\\n{v}'.replace('\\n\\n','\\n')\n",
    "    output_file_path = f'{dataset}_feature.json'\n",
    "    save_to_json(all_extracted_data, output_file_path)\n",
    "    # 删除已处理的 JSONL 文件\n",
    "    # delete_files(jsonl_files)\n",
    "    print(f\"合并的数据已保存到 {output_file_path}\")\n",
    "elif stage =='user':\n",
    "    output_file_path = f'{dataset}_user.json'\n",
    "    save_to_json(all_extracted_data, output_file_path)\n",
    "    # 删除已处理的 JSONL 文件\n",
    "    # delete_files(jsonl_files)\n",
    "    print(f\"合并的数据已保存到 {output_file_path}\")"
   ]
  }
 ],
 "metadata": {
  "kernelspec": {
   "display_name": "base",
   "language": "python",
   "name": "python3"
  },
  "language_info": {
   "codemirror_mode": {
    "name": "ipython",
    "version": 3
   },
   "file_extension": ".py",
   "mimetype": "text/x-python",
   "name": "python",
   "nbconvert_exporter": "python",
   "pygments_lexer": "ipython3",
   "version": "3.11.7"
  }
 },
 "nbformat": 4,
 "nbformat_minor": 2
}
